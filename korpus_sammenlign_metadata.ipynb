{
 "cells": [
  {
   "cell_type": "markdown",
   "metadata": {},
   "source": [
    "# Undersøk korpus med metadata\n",
    "\n",
    "Notebook for å undersøke korpus med metadata\n"
   ]
  },
  {
   "cell_type": "markdown",
   "metadata": {},
   "source": [
    "## Preparations\n",
    "\n",
    "All files are retrieved from the Github repository and made available in the notebook\n",
    "\n",
    "Run cell below if notebook is started from scratch, or if file module_update.py is not in same folder"
   ]
  },
  {
   "cell_type": "code",
   "execution_count": null,
   "metadata": {},
   "outputs": [],
   "source": [
    "!curl -s \"https://raw.githubusercontent.com/Yoonsen/Modules/master/module_update.py\" > \"module_update.py\""
   ]
  },
  {
   "cell_type": "code",
   "execution_count": null,
   "metadata": {},
   "outputs": [],
   "source": [
    "from module_update import update, css, code_toggle\n",
    "\n",
    "# make sure it is ok to overwrite existing files\n",
    "\n",
    "update(\"nbtext\", overwrite = True, silent = True)  \n",
    "update(\"graph_networkx_louvain\", overwrite = True, silent = True)\n",
    "\n",
    "# import the modules\n",
    "\n",
    "import nbtext as nb\n",
    "import graph_networkx_louvain as gnl\n",
    "from nbtext import cloud, get_urn, Cluster, Corpus\n",
    "\n",
    "# make matplotlib direct output to the notebook\n",
    "%matplotlib inline\n"
   ]
  },
  {
   "cell_type": "code",
   "execution_count": null,
   "metadata": {},
   "outputs": [],
   "source": [
    "css()  # changes the visual layout of the notebook"
   ]
  },
  {
   "cell_type": "code",
   "execution_count": null,
   "metadata": {},
   "outputs": [],
   "source": [
    "import nbtext as nb\n",
    "from nbtext import Corpus\n",
    "%matplotlib inline"
   ]
  },
  {
   "cell_type": "markdown",
   "metadata": {},
   "source": [
    "Kommandoen for å lage et korpus er *Corpus()* som bygger et korpus av tekster som sammenlignes med en referanse. I det her eksemplet bygges referansen samtidig, men i et ideelt tilfelle kan vi ønske å la referansen være ferdigbygd et sted."
   ]
  },
  {
   "cell_type": "code",
   "execution_count": null,
   "metadata": {},
   "outputs": [],
   "source": [
    "objekt = Corpus(\n",
    "    period=(1950, 2010),\n",
    "    title='%',\n",
    "    subject='krig',\n",
    "    ddk='%',\n",
    "    reference=50,\n",
    "    max_books=50)"
   ]
  },
  {
   "cell_type": "markdown",
   "metadata": {},
   "source": [
    "## Explorer differences\n",
    "\n",
    "The difference between target and reference is measured through subcommand *difference*. Experiment with parameters  *freq_exp* which weights the words in target, and *doc_exp* which weights the document frequency of words.\n"
   ]
  },
  {
   "cell_type": "code",
   "execution_count": null,
   "metadata": {},
   "outputs": [],
   "source": [
    "objekt.difference(top=10, aslist=False, freq_exp=1.1, doc_exp=1.5)"
   ]
  },
  {
   "cell_type": "code",
   "execution_count": null,
   "metadata": {},
   "outputs": [],
   "source": [
    "objekt.difference(top=150)"
   ]
  },
  {
   "cell_type": "markdown",
   "metadata": {},
   "source": [
    "Legg til summary() for se litt hva korpuset inneholder"
   ]
  },
  {
   "cell_type": "code",
   "execution_count": null,
   "metadata": {},
   "outputs": [],
   "source": [
    "objekt.summary()"
   ]
  },
  {
   "cell_type": "markdown",
   "metadata": {},
   "source": [
    "# Metadata for korpuset kan raskt sjekkes\n",
    "\n",
    "Pass på at ikke korpuset er for stort (mange tusen)."
   ]
  },
  {
   "cell_type": "code",
   "execution_count": null,
   "metadata": {},
   "outputs": [],
   "source": [
    "nb.metadata(objekt.target_urn)"
   ]
  },
  {
   "cell_type": "markdown",
   "metadata": {
    "collapsed": true
   },
   "source": [
    "### Søk etter sett av ord i clustret\n",
    "\n",
    "Finn verdien for ord i clusteret med objekt.check_words('o1 o2 o3 ... oN') med opsjonell spesifikasjon av eksponent. Bare list ordene opp med mellomrom, ord som ikke er i clusteret vil heller ikke vises. Alle andre vises med assosiasjonsverdien og sorteres var høy til lav. Tittel på kolonnen gir en påminnelse om ordet listen er kollokert fra."
   ]
  },
  {
   "cell_type": "code",
   "execution_count": null,
   "metadata": {},
   "outputs": [],
   "source": [
    "objekt.search_words( 'sår krig . , og i gevær våpen generaler soldater blod fattigdom nød')"
   ]
  },
  {
   "cell_type": "code",
   "execution_count": null,
   "metadata": {},
   "outputs": [],
   "source": []
  }
 ],
 "metadata": {
  "hide_input": false,
  "kernelspec": {
   "display_name": "Python 3",
   "language": "python",
   "name": "python3"
  },
  "language_info": {
   "codemirror_mode": {
    "name": "ipython",
    "version": 3
   },
   "file_extension": ".py",
   "mimetype": "text/x-python",
   "name": "python",
   "nbconvert_exporter": "python",
   "pygments_lexer": "ipython3",
   "version": "3.6.5"
  }
 },
 "nbformat": 4,
 "nbformat_minor": 2
}
