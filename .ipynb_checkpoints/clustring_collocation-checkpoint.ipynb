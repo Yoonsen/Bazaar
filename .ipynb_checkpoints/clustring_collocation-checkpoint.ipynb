{
 "cells": [
  {
   "cell_type": "markdown",
   "metadata": {},
   "source": [
    "# A notebook for clustring and visualization\n",
    "\n",
    "The term collocation has traditionally been restricted to words that are juxtaposed together as phrases like “strong coffee”, “strict regime” or “eat dinner”. Here we take collocations to be realized as skipgrams, or as word pairs that simply cooccur within a context which in itself is a contiguous sequence of words, typically a paragraph or a window of n words around a given word. Juxtaposed collocates will also be part of the result set. \n",
    "\n",
    "The collocates for a word are those words that are associated with it based on a measure of association. \n"
   ]
  },
  {
   "cell_type": "markdown",
   "metadata": {},
   "source": [
    "## Preparations "
   ]
  },
  {
   "cell_type": "markdown",
   "metadata": {},
   "source": [
    "*Run cell below if notebook is started from scratch, or if file `module_update.py` is not in same folder*"
   ]
  },
  {
   "cell_type": "code",
   "execution_count": null,
   "metadata": {},
   "outputs": [],
   "source": [
    "!curl -s \"https://raw.githubusercontent.com/Yoonsen/Modules/master/module_update.py\" > \"module_update.py\""
   ]
  },
  {
   "cell_type": "markdown",
   "metadata": {},
   "source": [
    "*Import commands from `module_update`and `nbtext`*"
   ]
  },
  {
   "cell_type": "code",
   "execution_count": null,
   "metadata": {},
   "outputs": [],
   "source": [
    "from module_update import update, css, code_toggle\n",
    "update(\"nbtext\")  \n",
    "import nbtext as nb\n",
    "from nbtext import cloud, get_urn, Cluster, Corpus\n",
    "%matplotlib inline"
   ]
  },
  {
   "cell_type": "markdown",
   "metadata": {},
   "source": [
    "*Run command css() to change the default layout*"
   ]
  },
  {
   "cell_type": "code",
   "execution_count": null,
   "metadata": {},
   "outputs": [],
   "source": [
    "css()  # changes the visual layout of the notebook"
   ]
  },
  {
   "cell_type": "markdown",
   "metadata": {},
   "source": [
    "*Add button to hide or show code lines*"
   ]
  },
  {
   "cell_type": "code",
   "execution_count": null,
   "metadata": {},
   "outputs": [],
   "source": [
    "# code_toggle(\"Click to hide/show code cells\")"
   ]
  },
  {
   "cell_type": "markdown",
   "metadata": {},
   "source": [
    "## Define a cluster\n",
    "\n",
    "Parameters are the window (before, after), how large the comparison should be (reference) and a limit on the number of example words. "
   ]
  },
  {
   "cell_type": "code",
   "execution_count": null,
   "metadata": {},
   "outputs": [],
   "source": [
    "et_cluster = Cluster(\n",
    "    'demokrati', \n",
    "    period = (1970, 1980), \n",
    "    before = 5, \n",
    "    after = 5, \n",
    "    corpus = 'avis',\n",
    "    reference = 150, \n",
    "    word_samples = 5000)"
   ]
  },
  {
   "cell_type": "markdown",
   "metadata": {},
   "source": [
    "# Inspect\n",
    "\n",
    "How to interpret - which words are connected to the word?"
   ]
  },
  {
   "cell_type": "code",
   "execution_count": null,
   "metadata": {},
   "outputs": [],
   "source": [
    "et_cluster.cluster_set(top=50, exponent=1.05)"
   ]
  },
  {
   "cell_type": "code",
   "execution_count": null,
   "metadata": {},
   "outputs": [],
   "source": [
    "et_cluster.search_words(\n",
    "    'demokrati diktatur arbeid industri arbeidsplass arbeidsplassen . , ; : arbeidende uforenlig og i på',\n",
    "exponent=1.1)"
   ]
  },
  {
   "cell_type": "markdown",
   "metadata": {},
   "source": [
    "# Wordcloud \n",
    "\n",
    "Draw a cloud with command *cloud()*. The command expects a dictionary word:number, or a one column dataframe"
   ]
  },
  {
   "cell_type": "code",
   "execution_count": null,
   "metadata": {},
   "outputs": [],
   "source": [
    "nb.cloud(et_cluster.cluster_set(exponent=1.1,aslist=False)[:150], background='black')"
   ]
  },
  {
   "cell_type": "code",
   "execution_count": null,
   "metadata": {},
   "outputs": [],
   "source": []
  }
 ],
 "metadata": {
  "hide_input": false,
  "kernelspec": {
   "display_name": "Python 3",
   "language": "python",
   "name": "python3"
  },
  "language_info": {
   "codemirror_mode": {
    "name": "ipython",
    "version": 3
   },
   "file_extension": ".py",
   "mimetype": "text/x-python",
   "name": "python",
   "nbconvert_exporter": "python",
   "pygments_lexer": "ipython3",
   "version": "3.7.0"
  }
 },
 "nbformat": 4,
 "nbformat_minor": 2
}
