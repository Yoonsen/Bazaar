{
 "cells": [
  {
   "cell_type": "markdown",
   "metadata": {},
   "source": [
    "#### Boot cell\n",
    "\n",
    "Skip if `module_update.py` is in same folder as notebook, next cell downloads this file which in turn will download other files."
   ]
  },
  {
   "cell_type": "code",
   "execution_count": 26,
   "metadata": {},
   "outputs": [],
   "source": [
    "!curl -s \"https://raw.githubusercontent.com/Yoonsen/Modules/master/module_update.py\" > \"module_update.py\""
   ]
  },
  {
   "cell_type": "markdown",
   "metadata": {},
   "source": [
    "#### Get essentials\n",
    "\n",
    "Import text and graph modules for analysis, and css for display"
   ]
  },
  {
   "cell_type": "code",
   "execution_count": 4,
   "metadata": {
    "slideshow": {
     "slide_type": "slide"
    }
   },
   "outputs": [],
   "source": [
    "from module_update import update, css"
   ]
  },
  {
   "cell_type": "code",
   "execution_count": 5,
   "metadata": {},
   "outputs": [
    {
     "data": {
      "text/html": [
       "<style>@import url(\n",
       "http://fonts.googleapis.com/css?family=Lato|Philosopher|Montserrat|Source+Code+Pro|Istok+Web|Philosopher|Assistant:200,400,700);\n",
       "\n",
       "/*\n",
       "#notebook-container {\n",
       "\t-webkit-box-shadow: none;\n",
       "\tbox-shadow: none;\n",
       "}\n",
       "*/\n",
       "\n",
       "h1, h2, h3, h4, h5, h6 {\n",
       "\tfont-family: 'Montserrat', sans-serif;\n",
       "\tline-height: 2em;\n",
       "    color: #004f99;\n",
       "    font-weight: 600;\n",
       "}\n",
       "\n",
       "h1 { font-size: 4.5em; }\n",
       "h2 { font-size: 4em; }\n",
       "h3 { font-size: 3.5em; }\n",
       "h4 { font-size: 3em; }\n",
       "h5 { font-size: 2.5em; color:DarkSlateGray; }\n",
       "h6 { font-size: 2em; }\n",
       "\n",
       "p {\n",
       "\tfont-family: 'Assistant', sans-serif; \n",
       "\tfont-size: 1.2em;\n",
       "\tline-height: 1.4em;\n",
       "\tcolor: black;\n",
       "}\n",
       "p code {\n",
       "\tfont-size:0.9em;\n",
       "}\n",
       "div.input_area {\n",
       "\tborder:none !important;\n",
       "\tborder-left:1px solid #ff851b !important\n",
       "}\n",
       "\n",
       "span.cm-keyword {\n",
       "\tcolor:#339966 !important;\n",
       "}\n",
       "span.nn {  /*span.cm-variable, span.cm-property*/\n",
       "\tcolor: #3399ff !important;\n",
       "}\n",
       "div.CodeMirror {\n",
       "\tfont-family: 'Inconsolata', monospace;\n",
       "\tfont-size: 1.1em;\n",
       "\t\n",
       "}\n",
       "</style>"
      ],
      "text/plain": [
       "<IPython.core.display.HTML object>"
      ]
     },
     "execution_count": 5,
     "metadata": {},
     "output_type": "execute_result"
    }
   ],
   "source": [
    "css()"
   ]
  },
  {
   "cell_type": "markdown",
   "metadata": {
    "slideshow": {
     "slide_type": "slide"
    }
   },
   "source": [
    "# Generic analysis"
   ]
  },
  {
   "cell_type": "markdown",
   "metadata": {},
   "source": [
    "The main module is `nbtext` and for graphs there is `graph_networkx_louvain`"
   ]
  },
  {
   "cell_type": "markdown",
   "metadata": {},
   "source": [
    "### Import modules"
   ]
  },
  {
   "cell_type": "code",
   "execution_count": 7,
   "metadata": {},
   "outputs": [
    {
     "data": {
      "text/markdown": [
       "Updated file `D:\\Documents\\GitHub\\Bazaar\\graph_networkx_louvain.py`"
      ],
      "text/plain": [
       "<IPython.core.display.Markdown object>"
      ]
     },
     "metadata": {},
     "output_type": "display_data"
    }
   ],
   "source": [
    "update('graph_networkx_louvain')\n",
    "import nbtext as nb\n",
    "import graph_networkx_louvain as gnl\n",
    "from graph_networkx_louvain import cutdown, make_collocation_graph"
   ]
  },
  {
   "cell_type": "markdown",
   "metadata": {
    "slideshow": {
     "slide_type": "slide"
    }
   },
   "source": [
    "## Build corpus\n",
    "\n",
    "A corpus definition is a set of URNs. Those can be obtained in various ways and stored as text or in MS-Word file.\n"
   ]
  },
  {
   "cell_type": "markdown",
   "metadata": {},
   "source": [
    "### From Word extension .docx"
   ]
  },
  {
   "cell_type": "code",
   "execution_count": null,
   "metadata": {},
   "outputs": [],
   "source": [
    "korpus = nb.get_urns_from_docx()"
   ]
  },
  {
   "cell_type": "markdown",
   "metadata": {},
   "source": [
    "### From textfile extension .txt"
   ]
  },
  {
   "cell_type": "code",
   "execution_count": null,
   "metadata": {},
   "outputs": [],
   "source": [
    "korpus = nb.get_urns_from_text()"
   ]
  },
  {
   "cell_type": "markdown",
   "metadata": {},
   "source": [
    "### Define using metadata \n",
    "\n",
    "Usin author name, titles, year, dewey, subject and gender. Check out [Webdewey](http://deweysearchno.pansoft.de/webdeweysearch/index.html) for more descriptions."
   ]
  },
  {
   "cell_type": "code",
   "execution_count": 18,
   "metadata": {},
   "outputs": [
    {
     "data": {
      "text/plain": [
       "42"
      ]
     },
     "execution_count": 18,
     "metadata": {},
     "output_type": "execute_result"
    }
   ],
   "source": [
    "korpus = nb.get_urn({'ddk': '7%', \n",
    "                     'year':1980, \n",
    "                     'next':20, \n",
    "                     'subject':'barn', \n",
    "                     'gender': 'f', \n",
    "                     'limit':300})\n",
    "len(korpus)"
   ]
  },
  {
   "cell_type": "markdown",
   "metadata": {},
   "source": [
    "A quick check on Dewey system with `dewey`-command.  "
   ]
  },
  {
   "cell_type": "code",
   "execution_count": 17,
   "metadata": {},
   "outputs": [
    {
     "data": {
      "text/plain": [
       "{'1': ['7', 'Kunst og fritid'],\n",
       " '2': ['79', 'Sport, spill og underholdning'],\n",
       " '3': ['799', 'Fiske, jakt, skyttersport']}"
      ]
     },
     "execution_count": 17,
     "metadata": {},
     "output_type": "execute_result"
    }
   ],
   "source": [
    "nb.dewey(799)"
   ]
  },
  {
   "cell_type": "markdown",
   "metadata": {},
   "source": [
    "## Make concordances"
   ]
  },
  {
   "cell_type": "code",
   "execution_count": 25,
   "metadata": {},
   "outputs": [
    {
     "data": {
      "text/html": [
       "<table><tr>\n",
       "                <td>\n",
       "                    <a href='http://www.nb.no/items/URN:NBN:no-nb_digibok_2010050403052?searchText=kvinner' target='_blank' style='text-decoration:none'>Nikolai Astrup, Lande, Marit, 1999</a>\n",
       "                </td>\n",
       "                <td>og gutter , menn og</td>\n",
       "                <td>kvinner</td>\n",
       "                <td style='text-align:left'>. Nikolai savnet også en</td>\n",
       "            </tr>\n",
       "<tr>\n",
       "                <td>\n",
       "                    <a href='http://www.nb.no/items/URN:NBN:no-nb_digibok_2011032105001?searchText=kvinner' target='_blank' style='text-decoration:none'>Carl Larsson, Lande, Marit, 2000</a>\n",
       "                </td>\n",
       "                <td>None</td>\n",
       "                <td>kvinner</td>\n",
       "                <td style='text-align:left'>og menn på hver sin</td>\n",
       "            </tr>\n",
       "<tr>\n",
       "                <td>\n",
       "                    <a href='http://www.nb.no/items/URN:NBN:no-nb_digibok_2007092600010?searchText=kvinner' target='_blank' style='text-decoration:none'>Barneskjebner, Grasmo, Kari, 1990</a>\n",
       "                </td>\n",
       "                <td>en tredjedel av alle skilte</td>\n",
       "                <td>kvinner</td>\n",
       "                <td style='text-align:left'>samvær medfaren ( for barna</td>\n",
       "            </tr>\n",
       "<tr>\n",
       "                <td>\n",
       "                    <a href='http://www.nb.no/items/URN:NBN:no-nb_digibok_2014071606043?searchText=kvinner' target='_blank' style='text-decoration:none'>3 barn i Hansta, Kolbenstvedt, Marika, 1981</a>\n",
       "                </td>\n",
       "                <td>arbeider i dag svært mange</td>\n",
       "                <td>kvinner</td>\n",
       "                <td style='text-align:left'>redusert tid . Fler og</td>\n",
       "            </tr>\n",
       "<tr>\n",
       "                <td>\n",
       "                    <a href='http://www.nb.no/items/URN:NBN:no-nb_digibok_2010021504134?searchText=kvinner' target='_blank' style='text-decoration:none'>Lær meg å strikke, Takle, Tone, 1999</a>\n",
       "                </td>\n",
       "                <td>noe som \" alle \"</td>\n",
       "                <td>kvinner</td>\n",
       "                <td style='text-align:left'>kunne i Norge . I</td>\n",
       "            </tr>\n",
       "<tr>\n",
       "                <td>\n",
       "                    <a href='http://www.nb.no/items/URN:NBN:no-nb_digibok_2010021504134?searchText=kvinner' target='_blank' style='text-decoration:none'>Lær meg å strikke, Takle, Tone, 1999</a>\n",
       "                </td>\n",
       "                <td>av de viktigste jobbene til</td>\n",
       "                <td>kvinner</td>\n",
       "                <td style='text-align:left'>før pengesamfunnet, både langs kysten</td>\n",
       "            </tr>\n",
       "<tr>\n",
       "                <td>\n",
       "                    <a href='http://www.nb.no/items/URN:NBN:no-nb_digibok_2010021504134?searchText=kvinner' target='_blank' style='text-decoration:none'>Lær meg å strikke, Takle, Tone, 1999</a>\n",
       "                </td>\n",
       "                <td>seg hvor kunnskapsrike og dyktige</td>\n",
       "                <td>kvinner</td>\n",
       "                <td style='text-align:left'>i gamle dager måtte være</td>\n",
       "            </tr>\n",
       "<tr>\n",
       "                <td>\n",
       "                    <a href='http://www.nb.no/items/URN:NBN:no-nb_digibok_2010021504134?searchText=kvinner' target='_blank' style='text-decoration:none'>Lær meg å strikke, Takle, Tone, 1999</a>\n",
       "                </td>\n",
       "                <td>var et hybelhus for ugifte</td>\n",
       "                <td>kvinner</td>\n",
       "                <td style='text-align:left'>. Det var mange kvinnelige</td>\n",
       "            </tr>\n",
       "<tr>\n",
       "                <td>\n",
       "                    <a href='http://www.nb.no/items/URN:NBN:no-nb_digibok_2011031606121?searchText=kvinner' target='_blank' style='text-decoration:none'>Billedkunst for barn og ungdom, Ebbesen, Karen Marie, 2000</a>\n",
       "                </td>\n",
       "                <td>som opptok dem , alminnelige</td>\n",
       "                <td>kvinner</td>\n",
       "                <td style='text-align:left'>, menn og barn i</td>\n",
       "            </tr>\n",
       "<tr>\n",
       "                <td>\n",
       "                    <a href='http://www.nb.no/items/URN:NBN:no-nb_digibok_2012070306067?searchText=kvinner' target='_blank' style='text-decoration:none'>\" - for aldrig meer at skilles - \", Lande, Marit, 1992</a>\n",
       "                </td>\n",
       "                <td>; det fortelles at husets</td>\n",
       "                <td>kvinner</td>\n",
       "                <td style='text-align:left'>danset som \" elverpiger \"</td>\n",
       "            </tr>\n",
       "<tr>\n",
       "                <td>\n",
       "                    <a href='http://www.nb.no/items/URN:NBN:no-nb_digibok_2012070306067?searchText=kvinner' target='_blank' style='text-decoration:none'>\" - for aldrig meer at skilles - \", Lande, Marit, 1992</a>\n",
       "                </td>\n",
       "                <td>stuevinduer - de fleste var</td>\n",
       "                <td>kvinner</td>\n",
       "                <td style='text-align:left'>fra 15 - årsalderen og</td>\n",
       "            </tr>\n",
       "<tr>\n",
       "                <td>\n",
       "                    <a href='http://www.nb.no/items/URN:NBN:no-nb_digibok_2012070306067?searchText=kvinner' target='_blank' style='text-decoration:none'>\" - for aldrig meer at skilles - \", Lande, Marit, 1992</a>\n",
       "                </td>\n",
       "                <td>november 1883 var alle husets</td>\n",
       "                <td>kvinner</td>\n",
       "                <td style='text-align:left'>på Thorvald Lammers konsert i</td>\n",
       "            </tr>\n",
       "<tr>\n",
       "                <td>\n",
       "                    <a href='http://www.nb.no/items/URN:NBN:no-nb_digibok_2012070306067?searchText=kvinner' target='_blank' style='text-decoration:none'>\" - for aldrig meer at skilles - \", Lande, Marit, 1992</a>\n",
       "                </td>\n",
       "                <td>Christiania Seildugsfabrik . Industribedrift med</td>\n",
       "                <td>kvinner</td>\n",
       "                <td style='text-align:left'>bak maskinene . St .</td>\n",
       "            </tr>\n",
       "<tr>\n",
       "                <td>\n",
       "                    <a href='http://www.nb.no/items/URN:NBN:no-nb_digibok_2012070306067?searchText=kvinner' target='_blank' style='text-decoration:none'>\" - for aldrig meer at skilles - \", Lande, Marit, 1992</a>\n",
       "                </td>\n",
       "                <td>Meyer , Ulla : Norske</td>\n",
       "                <td>kvinner</td>\n",
       "                <td style='text-align:left'>. 150 portretter . Oslo</td>\n",
       "            </tr>\n",
       "<tr>\n",
       "                <td>\n",
       "                    <a href='http://www.nb.no/items/URN:NBN:no-nb_digibok_2009011400083?searchText=kvinner' target='_blank' style='text-decoration:none'>Mestring og glede, Hollekim, Ingjerd, 2000</a>\n",
       "                </td>\n",
       "                <td>Først i 1928 kunne</td>\n",
       "                <td>kvinner</td>\n",
       "                <td style='text-align:left'>delta i internasjonale mesterskap .</td>\n",
       "            </tr>\n",
       "<tr>\n",
       "                <td>\n",
       "                    <a href='http://www.nb.no/items/URN:NBN:no-nb_digibok_2009011400083?searchText=kvinner' target='_blank' style='text-decoration:none'>Mestring og glede, Hollekim, Ingjerd, 2000</a>\n",
       "                </td>\n",
       "                <td>og tresteg godkjente øvelser for</td>\n",
       "                <td>kvinner</td>\n",
       "                <td style='text-align:left'>. Stav og slegge ble</td>\n",
       "            </tr>\n",
       "<tr>\n",
       "                <td>\n",
       "                    <a href='http://www.nb.no/items/URN:NBN:no-nb_digibok_2009011400083?searchText=kvinner' target='_blank' style='text-decoration:none'>Mestring og glede, Hollekim, Ingjerd, 2000</a>\n",
       "                </td>\n",
       "                <td>ulike øvelser) og sjukamp for</td>\n",
       "                <td>kvinner</td>\n",
       "                <td style='text-align:left'>.</td>\n",
       "            </tr>\n",
       "<tr>\n",
       "                <td>\n",
       "                    <a href='http://www.nb.no/items/URN:NBN:no-nb_digibok_2009011400083?searchText=kvinner' target='_blank' style='text-decoration:none'>Mestring og glede, Hollekim, Ingjerd, 2000</a>\n",
       "                </td>\n",
       "                <td>det er samme størrelse for</td>\n",
       "                <td>kvinner</td>\n",
       "                <td style='text-align:left'>og menn . Banestørrelsen er</td>\n",
       "            </tr>\n",
       "<tr>\n",
       "                <td>\n",
       "                    <a href='http://www.nb.no/items/URN:NBN:no-nb_digibok_2009011400083?searchText=kvinner' target='_blank' style='text-decoration:none'>Mestring og glede, Hollekim, Ingjerd, 2000</a>\n",
       "                </td>\n",
       "                <td>Netthøyden er 2,24 m for</td>\n",
       "                <td>kvinner</td>\n",
       "                <td style='text-align:left'>og 2,42 m for menn</td>\n",
       "            </tr>\n",
       "<tr>\n",
       "                <td>\n",
       "                    <a href='http://www.nb.no/items/URN:NBN:no-nb_digibok_2011081108084?searchText=kvinner' target='_blank' style='text-decoration:none'>Fysisk aktivisering av barn og unge, Engh, Anne, 1997</a>\n",
       "                </td>\n",
       "                <td>var opptatt av at også</td>\n",
       "                <td>kvinner</td>\n",
       "                <td style='text-align:left'>skulle sørge for « legemlig</td>\n",
       "            </tr>\n",
       "<tr>\n",
       "                <td>\n",
       "                    <a href='http://www.nb.no/items/URN:NBN:no-nb_digibok_2013021324009?searchText=kvinner' target='_blank' style='text-decoration:none'>\"Jeg maler det jeg så - \", Lande, Marit, 1988</a>\n",
       "                </td>\n",
       "                <td>med folk som leser og</td>\n",
       "                <td>kvinner</td>\n",
       "                <td style='text-align:left'>som strikker - nå ville</td>\n",
       "            </tr>\n",
       "<tr>\n",
       "                <td>\n",
       "                    <a href='http://www.nb.no/items/URN:NBN:no-nb_digibok_2013021324009?searchText=kvinner' target='_blank' style='text-decoration:none'>\"Jeg maler det jeg så - \", Lande, Marit, 1988</a>\n",
       "                </td>\n",
       "                <td>hodet . Det kom unge</td>\n",
       "                <td>kvinner</td>\n",
       "                <td style='text-align:left'>til huset , sterke og</td>\n",
       "            </tr>\n",
       "<tr>\n",
       "                <td>\n",
       "                    <a href='http://www.nb.no/items/URN:NBN:no-nb_digibok_2010070908031?searchText=kvinner' target='_blank' style='text-decoration:none'>Muterende stemmer, Aune, Sissel Høyem, 1995</a>\n",
       "                </td>\n",
       "                <td>med en generell emansipasjon av</td>\n",
       "                <td>kvinner</td>\n",
       "                <td style='text-align:left'>i et samfunn som har</td>\n",
       "            </tr>\n",
       "</table>"
      ],
      "text/plain": [
       "<IPython.core.display.HTML object>"
      ]
     },
     "execution_count": 25,
     "metadata": {},
     "output_type": "execute_result"
    }
   ],
   "source": [
    "nb.get_urnkonk('kvinner', {'urns':korpus})"
   ]
  }
 ],
 "metadata": {
  "kernelspec": {
   "display_name": "Python 3",
   "language": "python",
   "name": "python3"
  },
  "language_info": {
   "codemirror_mode": {
    "name": "ipython",
    "version": 3
   },
   "file_extension": ".py",
   "mimetype": "text/x-python",
   "name": "python",
   "nbconvert_exporter": "python",
   "pygments_lexer": "ipython3",
   "version": "3.7.0"
  }
 },
 "nbformat": 4,
 "nbformat_minor": 2
}
